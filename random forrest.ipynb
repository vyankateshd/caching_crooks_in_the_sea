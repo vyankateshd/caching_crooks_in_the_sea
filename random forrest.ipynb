{
 "cells": [
  {
   "cell_type": "code",
   "execution_count": 2,
   "metadata": {},
   "outputs": [],
   "source": [
    "import numpy as np\n",
    "import pandas as pd\n",
    "from sklearn.ensemble import RandomForestRegressor\n",
    "from sklearn.model_selection import train_test_split\n"
   ]
  },
  {
   "cell_type": "code",
   "execution_count": 3,
   "metadata": {},
   "outputs": [],
   "source": [
    "data=pd.read_csv('trollers.csv')"
   ]
  },
  {
   "cell_type": "code",
   "execution_count": 4,
   "metadata": {},
   "outputs": [],
   "source": [
    "data=data.drop(columns=['mmsi','timestamp','source'])"
   ]
  },
  {
   "cell_type": "code",
   "execution_count": 5,
   "metadata": {},
   "outputs": [],
   "source": [
    "data1 = data.copy()\n",
    "data = data[data['is_fishing'] != -1]"
   ]
  },
  {
   "cell_type": "code",
   "execution_count": 6,
   "metadata": {},
   "outputs": [
    {
     "data": {
      "text/plain": [
       "(7845, 7)"
      ]
     },
     "execution_count": 6,
     "metadata": {},
     "output_type": "execute_result"
    }
   ],
   "source": [
    "data.shape"
   ]
  },
  {
   "cell_type": "code",
   "execution_count": 7,
   "metadata": {},
   "outputs": [],
   "source": [
    "x=data.drop('is_fishing',axis=1)\n",
    "y=data['is_fishing']"
   ]
  },
  {
   "cell_type": "code",
   "execution_count": 8,
   "metadata": {},
   "outputs": [],
   "source": [
    "x_train,x_test,y_train,y_test=train_test_split(x,y,test_size=0.2,random_state=997)"
   ]
  },
  {
   "cell_type": "code",
   "execution_count": 9,
   "metadata": {},
   "outputs": [],
   "source": [
    "rfr = RandomForestRegressor()"
   ]
  },
  {
   "cell_type": "code",
   "execution_count": 10,
   "metadata": {},
   "outputs": [
    {
     "data": {
      "text/plain": [
       "84139     1.0\n",
       "55112     0.0\n",
       "84644     0.0\n",
       "55264     0.0\n",
       "4730      1.0\n",
       "         ... \n",
       "147320    0.0\n",
       "55041     0.0\n",
       "55194     0.0\n",
       "55009     1.0\n",
       "150967    0.0\n",
       "Name: is_fishing, Length: 6276, dtype: float64"
      ]
     },
     "execution_count": 10,
     "metadata": {},
     "output_type": "execute_result"
    }
   ],
   "source": [
    "y_train"
   ]
  },
  {
   "cell_type": "code",
   "execution_count": 11,
   "metadata": {},
   "outputs": [
    {
     "name": "stderr",
     "output_type": "stream",
     "text": [
      "C:\\ProgramData\\Anaconda3\\lib\\site-packages\\sklearn\\ensemble\\forest.py:245: FutureWarning: The default value of n_estimators will change from 10 in version 0.20 to 100 in 0.22.\n",
      "  \"10 in version 0.20 to 100 in 0.22.\", FutureWarning)\n"
     ]
    },
    {
     "data": {
      "text/plain": [
       "RandomForestRegressor(bootstrap=True, criterion='mse', max_depth=None,\n",
       "                      max_features='auto', max_leaf_nodes=None,\n",
       "                      min_impurity_decrease=0.0, min_impurity_split=None,\n",
       "                      min_samples_leaf=1, min_samples_split=2,\n",
       "                      min_weight_fraction_leaf=0.0, n_estimators=10,\n",
       "                      n_jobs=None, oob_score=False, random_state=None,\n",
       "                      verbose=0, warm_start=False)"
      ]
     },
     "execution_count": 11,
     "metadata": {},
     "output_type": "execute_result"
    }
   ],
   "source": [
    "rfr.fit(x_train,y_train)"
   ]
  },
  {
   "cell_type": "code",
   "execution_count": 12,
   "metadata": {},
   "outputs": [
    {
     "name": "stdout",
     "output_type": "stream",
     "text": [
      "R-squared: 0.7918610106141969\n"
     ]
    }
   ],
   "source": [
    "fit = rfr.score(x_test, y_test)\n",
    "print(\"R-squared:\", fit) "
   ]
  },
  {
   "cell_type": "code",
   "execution_count": 13,
   "metadata": {},
   "outputs": [
    {
     "data": {
      "text/plain": [
       "array([1. , 0. , 0. , ..., 0.2, 0.8, 1. ])"
      ]
     },
     "execution_count": 13,
     "metadata": {},
     "output_type": "execute_result"
    }
   ],
   "source": [
    "y_pred = rfr.predict(x_test)\n",
    "y_pred"
   ]
  },
  {
   "cell_type": "code",
   "execution_count": 14,
   "metadata": {},
   "outputs": [
    {
     "name": "stdout",
     "output_type": "stream",
     "text": [
      "MSE:  0.04882931139037532\n",
      "RMSE:  0.02441465569518766\n"
     ]
    }
   ],
   "source": [
    "from sklearn.metrics import mean_squared_error\n",
    "\n",
    "mse = mean_squared_error(y_test, y_pred)\n",
    "print(\"MSE: \", mse)\n",
    "print(\"RMSE: \", mse*(1/2.0)) "
   ]
  },
  {
   "cell_type": "code",
   "execution_count": 15,
   "metadata": {},
   "outputs": [],
   "source": [
    "new_data = x_test.copy()"
   ]
  },
  {
   "cell_type": "code",
   "execution_count": 16,
   "metadata": {},
   "outputs": [],
   "source": [
    "new_data[\"Predicted\"] = y_pred"
   ]
  },
  {
   "cell_type": "code",
   "execution_count": 17,
   "metadata": {},
   "outputs": [],
   "source": [
    "new_data[\"Actual\"] = y_test.to_list()"
   ]
  },
  {
   "cell_type": "code",
   "execution_count": 18,
   "metadata": {},
   "outputs": [],
   "source": [
    "new_data[\"fishing_or_not\"] = np.where(new_data.Predicted >= 0.2, 'Fishing', \"Not_fishing\")"
   ]
  },
  {
   "cell_type": "code",
   "execution_count": 19,
   "metadata": {},
   "outputs": [
    {
     "data": {
      "text/html": [
       "<div>\n",
       "<style scoped>\n",
       "    .dataframe tbody tr th:only-of-type {\n",
       "        vertical-align: middle;\n",
       "    }\n",
       "\n",
       "    .dataframe tbody tr th {\n",
       "        vertical-align: top;\n",
       "    }\n",
       "\n",
       "    .dataframe thead th {\n",
       "        text-align: right;\n",
       "    }\n",
       "</style>\n",
       "<table border=\"1\" class=\"dataframe\">\n",
       "  <thead>\n",
       "    <tr style=\"text-align: right;\">\n",
       "      <th></th>\n",
       "      <th>distance_from_shore</th>\n",
       "      <th>distance_from_port</th>\n",
       "      <th>speed</th>\n",
       "      <th>course</th>\n",
       "      <th>lat</th>\n",
       "      <th>lon</th>\n",
       "      <th>Predicted</th>\n",
       "      <th>Actual</th>\n",
       "      <th>fishing_or_not</th>\n",
       "    </tr>\n",
       "  </thead>\n",
       "  <tbody>\n",
       "    <tr>\n",
       "      <th>85426</th>\n",
       "      <td>47852.769531</td>\n",
       "      <td>74731.023438</td>\n",
       "      <td>1.8</td>\n",
       "      <td>167.300003</td>\n",
       "      <td>47.459053</td>\n",
       "      <td>-124.777283</td>\n",
       "      <td>1.0</td>\n",
       "      <td>1.0</td>\n",
       "      <td>Fishing</td>\n",
       "    </tr>\n",
       "    <tr>\n",
       "      <th>53416</th>\n",
       "      <td>999.975464</td>\n",
       "      <td>1414.178833</td>\n",
       "      <td>0.0</td>\n",
       "      <td>0.000000</td>\n",
       "      <td>57.109634</td>\n",
       "      <td>12.241582</td>\n",
       "      <td>0.0</td>\n",
       "      <td>0.0</td>\n",
       "      <td>Not_fishing</td>\n",
       "    </tr>\n",
       "    <tr>\n",
       "      <th>53612</th>\n",
       "      <td>999.975464</td>\n",
       "      <td>1414.178833</td>\n",
       "      <td>0.0</td>\n",
       "      <td>0.000000</td>\n",
       "      <td>57.109619</td>\n",
       "      <td>12.241518</td>\n",
       "      <td>0.0</td>\n",
       "      <td>1.0</td>\n",
       "      <td>Not_fishing</td>\n",
       "    </tr>\n",
       "    <tr>\n",
       "      <th>84528</th>\n",
       "      <td>62167.597656</td>\n",
       "      <td>85443.796875</td>\n",
       "      <td>7.9</td>\n",
       "      <td>151.699997</td>\n",
       "      <td>45.864174</td>\n",
       "      <td>-124.547264</td>\n",
       "      <td>0.0</td>\n",
       "      <td>0.0</td>\n",
       "      <td>Not_fishing</td>\n",
       "    </tr>\n",
       "    <tr>\n",
       "      <th>150182</th>\n",
       "      <td>0.000000</td>\n",
       "      <td>5830.808594</td>\n",
       "      <td>0.0</td>\n",
       "      <td>0.000000</td>\n",
       "      <td>41.268188</td>\n",
       "      <td>36.381615</td>\n",
       "      <td>0.0</td>\n",
       "      <td>0.0</td>\n",
       "      <td>Not_fishing</td>\n",
       "    </tr>\n",
       "    <tr>\n",
       "      <th>...</th>\n",
       "      <td>...</td>\n",
       "      <td>...</td>\n",
       "      <td>...</td>\n",
       "      <td>...</td>\n",
       "      <td>...</td>\n",
       "      <td>...</td>\n",
       "      <td>...</td>\n",
       "      <td>...</td>\n",
       "      <td>...</td>\n",
       "    </tr>\n",
       "    <tr>\n",
       "      <th>148500</th>\n",
       "      <td>0.000000</td>\n",
       "      <td>5830.808594</td>\n",
       "      <td>0.0</td>\n",
       "      <td>0.000000</td>\n",
       "      <td>41.267944</td>\n",
       "      <td>36.381847</td>\n",
       "      <td>0.0</td>\n",
       "      <td>0.0</td>\n",
       "      <td>Not_fishing</td>\n",
       "    </tr>\n",
       "    <tr>\n",
       "      <th>150387</th>\n",
       "      <td>7070.894531</td>\n",
       "      <td>8602.114258</td>\n",
       "      <td>2.4</td>\n",
       "      <td>126.300003</td>\n",
       "      <td>41.345921</td>\n",
       "      <td>36.390285</td>\n",
       "      <td>0.5</td>\n",
       "      <td>0.0</td>\n",
       "      <td>Fishing</td>\n",
       "    </tr>\n",
       "    <tr>\n",
       "      <th>53917</th>\n",
       "      <td>999.975464</td>\n",
       "      <td>1414.178833</td>\n",
       "      <td>0.0</td>\n",
       "      <td>227.000000</td>\n",
       "      <td>57.109634</td>\n",
       "      <td>12.241550</td>\n",
       "      <td>0.2</td>\n",
       "      <td>0.0</td>\n",
       "      <td>Fishing</td>\n",
       "    </tr>\n",
       "    <tr>\n",
       "      <th>150606</th>\n",
       "      <td>11704.412109</td>\n",
       "      <td>12529.657227</td>\n",
       "      <td>2.5</td>\n",
       "      <td>118.900002</td>\n",
       "      <td>41.336842</td>\n",
       "      <td>36.449585</td>\n",
       "      <td>0.8</td>\n",
       "      <td>0.0</td>\n",
       "      <td>Fishing</td>\n",
       "    </tr>\n",
       "    <tr>\n",
       "      <th>4792</th>\n",
       "      <td>999.975464</td>\n",
       "      <td>9999.754883</td>\n",
       "      <td>10.3</td>\n",
       "      <td>241.100006</td>\n",
       "      <td>38.239231</td>\n",
       "      <td>15.635330</td>\n",
       "      <td>1.0</td>\n",
       "      <td>1.0</td>\n",
       "      <td>Fishing</td>\n",
       "    </tr>\n",
       "  </tbody>\n",
       "</table>\n",
       "<p>1569 rows × 9 columns</p>\n",
       "</div>"
      ],
      "text/plain": [
       "        distance_from_shore  distance_from_port  speed      course        lat  \\\n",
       "85426          47852.769531        74731.023438    1.8  167.300003  47.459053   \n",
       "53416            999.975464         1414.178833    0.0    0.000000  57.109634   \n",
       "53612            999.975464         1414.178833    0.0    0.000000  57.109619   \n",
       "84528          62167.597656        85443.796875    7.9  151.699997  45.864174   \n",
       "150182             0.000000         5830.808594    0.0    0.000000  41.268188   \n",
       "...                     ...                 ...    ...         ...        ...   \n",
       "148500             0.000000         5830.808594    0.0    0.000000  41.267944   \n",
       "150387          7070.894531         8602.114258    2.4  126.300003  41.345921   \n",
       "53917            999.975464         1414.178833    0.0  227.000000  57.109634   \n",
       "150606         11704.412109        12529.657227    2.5  118.900002  41.336842   \n",
       "4792             999.975464         9999.754883   10.3  241.100006  38.239231   \n",
       "\n",
       "               lon  Predicted  Actual fishing_or_not  \n",
       "85426  -124.777283        1.0     1.0        Fishing  \n",
       "53416    12.241582        0.0     0.0    Not_fishing  \n",
       "53612    12.241518        0.0     1.0    Not_fishing  \n",
       "84528  -124.547264        0.0     0.0    Not_fishing  \n",
       "150182   36.381615        0.0     0.0    Not_fishing  \n",
       "...            ...        ...     ...            ...  \n",
       "148500   36.381847        0.0     0.0    Not_fishing  \n",
       "150387   36.390285        0.5     0.0        Fishing  \n",
       "53917    12.241550        0.2     0.0        Fishing  \n",
       "150606   36.449585        0.8     0.0        Fishing  \n",
       "4792     15.635330        1.0     1.0        Fishing  \n",
       "\n",
       "[1569 rows x 9 columns]"
      ]
     },
     "execution_count": 19,
     "metadata": {},
     "output_type": "execute_result"
    }
   ],
   "source": [
    "new_data"
   ]
  },
  {
   "cell_type": "code",
   "execution_count": 20,
   "metadata": {},
   "outputs": [],
   "source": [
    "def get_final_outut(fit, shore_dis, port_dist, speed, course, lat, lon):\n",
    "    x_test = pd.DataFrame(columns= [\"distance_from_shore\", \"distance_from_port\", \"speed\", \"course\", \"lat\", \"lon\"])\n",
    "    x_test[\"distance_from_shore\"] = [shore_dis]\n",
    "    x_test[\"distance_from_port\"]= [port_dist]\n",
    "    x_test[\"speed\"]=[speed]\n",
    "    x_test[\"course\"]=[course]\n",
    "    x_test[\"lat\"]=[lat]\n",
    "    x_test[\"lon\"]=[lon]    \n",
    "    \n",
    "    y_pred = rfr.predict(x_test)\n",
    "    \n",
    "    fnf = \"fishing\" if y_pred >0.2 else \"Not_fishing\"\n",
    "    \n",
    "    return fnf"
   ]
  },
  {
   "cell_type": "code",
   "execution_count": 21,
   "metadata": {},
   "outputs": [
    {
     "data": {
      "text/plain": [
       "'fishing'"
      ]
     },
     "execution_count": 21,
     "metadata": {},
     "output_type": "execute_result"
    }
   ],
   "source": [
    "get_final_outut(fit,11704.412109,1414.178833,2.4,126.300003,38.239231,12.241550)"
   ]
  },
  {
   "cell_type": "code",
   "execution_count": 22,
   "metadata": {},
   "outputs": [],
   "source": [
    "import pickle"
   ]
  },
  {
   "cell_type": "code",
   "execution_count": 23,
   "metadata": {},
   "outputs": [],
   "source": [
    "pickle.dump(rfr, open('rfrfinal_prediction.pickle', 'wb'))"
   ]
  },
  {
   "cell_type": "code",
   "execution_count": 24,
   "metadata": {},
   "outputs": [],
   "source": [
    "model = pickle.load(open('rfrfinal_prediction.pickle','rb'))\n"
   ]
  },
  {
   "cell_type": "code",
   "execution_count": null,
   "metadata": {},
   "outputs": [],
   "source": []
  }
 ],
 "metadata": {
  "kernelspec": {
   "display_name": "Python 3",
   "language": "python",
   "name": "python3"
  },
  "language_info": {
   "codemirror_mode": {
    "name": "ipython",
    "version": 3
   },
   "file_extension": ".py",
   "mimetype": "text/x-python",
   "name": "python",
   "nbconvert_exporter": "python",
   "pygments_lexer": "ipython3",
   "version": "3.7.3"
  }
 },
 "nbformat": 4,
 "nbformat_minor": 2
}
